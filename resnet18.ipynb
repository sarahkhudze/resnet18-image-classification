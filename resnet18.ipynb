{
  "nbformat": 4,
  "nbformat_minor": 0,
  "metadata": {
    "colab": {
      "provenance": [],
      "gpuType": "T4"
    },
    "kernelspec": {
      "name": "python3",
      "display_name": "Python 3"
    },
    "language_info": {
      "name": "python"
    },
    "accelerator": "GPU"
  },
  "cells": [
    {
      "cell_type": "code",
      "execution_count": 1,
      "metadata": {
        "id": "YFUhpr9hi55B"
      },
      "outputs": [],
      "source": [
        "import os\n",
        "import time\n",
        "\n",
        "import numpy as np\n",
        "import pandas as pd\n",
        "\n",
        "import torch\n",
        "import torch.nn as nn\n",
        "import torch.nn.functional as F\n",
        "from torch.utils.data import DataLoader\n",
        "\n",
        "from torchvision import datasets\n",
        "from torchvision import transforms\n",
        "\n",
        "import matplotlib.pyplot as plt\n",
        "from PIL import Image\n",
        "\n",
        "\n",
        "if torch.cuda.is_available():\n",
        "    torch.backends.cudnn.deterministic = True"
      ]
    },
    {
      "cell_type": "code",
      "source": [
        "##########################\n",
        "### SETTINGS\n",
        "##########################\n",
        "\n",
        "# Hyperparameters\n",
        "RANDOM_SEED = 1\n",
        "LEARNING_RATE = 0.001\n",
        "BATCH_SIZE = 128\n",
        "NUM_EPOCHS = 10\n",
        "\n",
        "# Architecture\n",
        "NUM_FEATURES = 28*28\n",
        "NUM_CLASSES = 10\n",
        "\n",
        "# Other\n",
        "DEVICE = \"cuda:1\"\n",
        "GRAYSCALE = True"
      ],
      "metadata": {
        "id": "iUjKVxgpjBEj"
      },
      "execution_count": 2,
      "outputs": []
    },
    {
      "cell_type": "code",
      "source": [
        "##########################\n",
        "### MNIST DATASET\n",
        "##########################\n",
        "\n",
        "# Note transforms.ToTensor() scales input images\n",
        "# to 0-1 range\n",
        "train_dataset = datasets.MNIST(root='data',\n",
        "                               train=True,\n",
        "                               transform=transforms.ToTensor(),\n",
        "                               download=True)\n",
        "\n",
        "test_dataset = datasets.MNIST(root='data',\n",
        "                              train=False,\n",
        "                              transform=transforms.ToTensor())\n",
        "\n",
        "\n",
        "train_loader = DataLoader(dataset=train_dataset,\n",
        "                          batch_size=BATCH_SIZE,\n",
        "                          shuffle=True)\n",
        "\n",
        "test_loader = DataLoader(dataset=test_dataset,\n",
        "                         batch_size=BATCH_SIZE,\n",
        "                         shuffle=False)\n",
        "\n",
        "# Checking the dataset\n",
        "for images, labels in train_loader:\n",
        "    print('Image batch dimensions:', images.shape)\n",
        "    print('Image label dimensions:', labels.shape)\n",
        "    break"
      ],
      "metadata": {
        "colab": {
          "base_uri": "https://localhost:8080/"
        },
        "id": "YFV6eFuOjFjN",
        "outputId": "381fb34f-a8e7-4e86-b45c-64d0a3e639f0"
      },
      "execution_count": 3,
      "outputs": [
        {
          "output_type": "stream",
          "name": "stdout",
          "text": [
            "Downloading http://yann.lecun.com/exdb/mnist/train-images-idx3-ubyte.gz\n",
            "Failed to download (trying next):\n",
            "HTTP Error 403: Forbidden\n",
            "\n",
            "Downloading https://ossci-datasets.s3.amazonaws.com/mnist/train-images-idx3-ubyte.gz\n",
            "Downloading https://ossci-datasets.s3.amazonaws.com/mnist/train-images-idx3-ubyte.gz to data/MNIST/raw/train-images-idx3-ubyte.gz\n"
          ]
        },
        {
          "output_type": "stream",
          "name": "stderr",
          "text": [
            "100%|██████████| 9.91M/9.91M [00:00<00:00, 16.1MB/s]\n"
          ]
        },
        {
          "output_type": "stream",
          "name": "stdout",
          "text": [
            "Extracting data/MNIST/raw/train-images-idx3-ubyte.gz to data/MNIST/raw\n",
            "\n",
            "Downloading http://yann.lecun.com/exdb/mnist/train-labels-idx1-ubyte.gz\n",
            "Failed to download (trying next):\n",
            "HTTP Error 403: Forbidden\n",
            "\n",
            "Downloading https://ossci-datasets.s3.amazonaws.com/mnist/train-labels-idx1-ubyte.gz\n",
            "Downloading https://ossci-datasets.s3.amazonaws.com/mnist/train-labels-idx1-ubyte.gz to data/MNIST/raw/train-labels-idx1-ubyte.gz\n"
          ]
        },
        {
          "output_type": "stream",
          "name": "stderr",
          "text": [
            "100%|██████████| 28.9k/28.9k [00:00<00:00, 487kB/s]\n"
          ]
        },
        {
          "output_type": "stream",
          "name": "stdout",
          "text": [
            "Extracting data/MNIST/raw/train-labels-idx1-ubyte.gz to data/MNIST/raw\n",
            "\n",
            "Downloading http://yann.lecun.com/exdb/mnist/t10k-images-idx3-ubyte.gz\n",
            "Failed to download (trying next):\n",
            "HTTP Error 403: Forbidden\n",
            "\n",
            "Downloading https://ossci-datasets.s3.amazonaws.com/mnist/t10k-images-idx3-ubyte.gz\n",
            "Downloading https://ossci-datasets.s3.amazonaws.com/mnist/t10k-images-idx3-ubyte.gz to data/MNIST/raw/t10k-images-idx3-ubyte.gz\n"
          ]
        },
        {
          "output_type": "stream",
          "name": "stderr",
          "text": [
            "100%|██████████| 1.65M/1.65M [00:00<00:00, 4.45MB/s]\n"
          ]
        },
        {
          "output_type": "stream",
          "name": "stdout",
          "text": [
            "Extracting data/MNIST/raw/t10k-images-idx3-ubyte.gz to data/MNIST/raw\n",
            "\n",
            "Downloading http://yann.lecun.com/exdb/mnist/t10k-labels-idx1-ubyte.gz\n",
            "Failed to download (trying next):\n",
            "HTTP Error 403: Forbidden\n",
            "\n",
            "Downloading https://ossci-datasets.s3.amazonaws.com/mnist/t10k-labels-idx1-ubyte.gz\n",
            "Downloading https://ossci-datasets.s3.amazonaws.com/mnist/t10k-labels-idx1-ubyte.gz to data/MNIST/raw/t10k-labels-idx1-ubyte.gz\n"
          ]
        },
        {
          "output_type": "stream",
          "name": "stderr",
          "text": [
            "100%|██████████| 4.54k/4.54k [00:00<00:00, 4.42MB/s]"
          ]
        },
        {
          "output_type": "stream",
          "name": "stdout",
          "text": [
            "Extracting data/MNIST/raw/t10k-labels-idx1-ubyte.gz to data/MNIST/raw\n",
            "\n",
            "Image batch dimensions: torch.Size([128, 1, 28, 28])\n",
            "Image label dimensions: torch.Size([128])\n"
          ]
        },
        {
          "output_type": "stream",
          "name": "stderr",
          "text": [
            "\n"
          ]
        }
      ]
    },
    {
      "cell_type": "code",
      "source": [
        "DEVICE = \"cuda:0\"  # Ensure DEVICE is set to the correct device\n",
        "\n",
        "device = torch.device(DEVICE)  # Now uses the updated DEVICE value\n",
        "torch.manual_seed(0)\n",
        "\n",
        "for epoch in range(2):\n",
        "    for batch_idx, (x, y) in enumerate(train_loader):\n",
        "        print('Epoch:', epoch+1, end='')\n",
        "        print(' | Batch index:', batch_idx, end='')\n",
        "        print(' | Batch size:', y.size()[0])\n",
        "\n",
        "        x = x.to(device)  # Now sends tensors to the correct device\n",
        "        y = y.to(device)\n",
        "        break"
      ],
      "metadata": {
        "colab": {
          "base_uri": "https://localhost:8080/"
        },
        "id": "_Tl6TLlVjLOo",
        "outputId": "282ed09b-e159-41ef-9d85-b25c9adbcfa8"
      },
      "execution_count": 7,
      "outputs": [
        {
          "output_type": "stream",
          "name": "stdout",
          "text": [
            "Epoch: 1 | Batch index: 0 | Batch size: 128\n",
            "Epoch: 2 | Batch index: 0 | Batch size: 128\n"
          ]
        }
      ]
    },
    {
      "cell_type": "code",
      "source": [
        "##########################\n",
        "### MODEL\n",
        "##########################\n",
        "\n",
        "\n",
        "def conv3x3(in_planes, out_planes, stride=1):\n",
        "    \"\"\"3x3 convolution with padding\"\"\"\n",
        "    return nn.Conv2d(in_planes, out_planes, kernel_size=3, stride=stride,\n",
        "                     padding=1, bias=False)\n",
        "\n",
        "\n",
        "class BasicBlock(nn.Module):\n",
        "    expansion = 1\n",
        "\n",
        "    def __init__(self, inplanes, planes, stride=1, downsample=None):\n",
        "        super(BasicBlock, self).__init__()\n",
        "        self.conv1 = conv3x3(inplanes, planes, stride)\n",
        "        self.bn1 = nn.BatchNorm2d(planes)\n",
        "        self.relu = nn.ReLU(inplace=True)\n",
        "        self.conv2 = conv3x3(planes, planes)\n",
        "        self.bn2 = nn.BatchNorm2d(planes)\n",
        "        self.downsample = downsample\n",
        "        self.stride = stride\n",
        "\n",
        "    def forward(self, x):\n",
        "        residual = x\n",
        "\n",
        "        out = self.conv1(x)\n",
        "        out = self.bn1(out)\n",
        "        out = self.relu(out)\n",
        "        out = self.conv2(out)\n",
        "        out = self.bn2(out)\n",
        "\n",
        "        if self.downsample is not None:\n",
        "            residual = self.downsample(x)\n",
        "\n",
        "        out += residual\n",
        "        out = self.relu(out)\n",
        "\n",
        "        return out\n",
        "\n",
        "class ResNet(nn.Module):\n",
        "\n",
        "    def __init__(self, block, layers, num_classes, grayscale):\n",
        "        self.inplanes = 64\n",
        "        if grayscale:\n",
        "            in_dim = 1\n",
        "        else:\n",
        "            in_dim = 3\n",
        "        super(ResNet, self).__init__()\n",
        "        self.conv1 = nn.Conv2d(in_dim, 64, kernel_size=7, stride=2, padding=3,\n",
        "                               bias=False)\n",
        "        self.bn1 = nn.BatchNorm2d(64)\n",
        "        self.relu = nn.ReLU(inplace=True)\n",
        "        self.maxpool = nn.MaxPool2d(kernel_size=3, stride=2, padding=1)\n",
        "        self.layer1 = self._make_layer(block, 64, layers[0])\n",
        "        self.layer2 = self._make_layer(block, 128, layers[1], stride=2)\n",
        "        self.layer3 = self._make_layer(block, 256, layers[2], stride=2)\n",
        "        self.layer4 = self._make_layer(block, 512, layers[3], stride=2)\n",
        "        self.avgpool = nn.AvgPool2d(7, stride=1)\n",
        "        self.fc = nn.Linear(512 * block.expansion, num_classes)\n",
        "\n",
        "        for m in self.modules():\n",
        "            if isinstance(m, nn.Conv2d):\n",
        "                n = m.kernel_size[0] * m.kernel_size[1] * m.out_channels\n",
        "                m.weight.data.normal_(0, (2. / n)**.5)\n",
        "            elif isinstance(m, nn.BatchNorm2d):\n",
        "                m.weight.data.fill_(1)\n",
        "                m.bias.data.zero_()\n",
        "    def _make_layer(self, block, planes, blocks, stride=1):\n",
        "        downsample = None\n",
        "        if stride != 1 or self.inplanes != planes * block.expansion:\n",
        "            downsample = nn.Sequential(\n",
        "                nn.Conv2d(self.inplanes, planes * block.expansion,\n",
        "                          kernel_size=1, stride=stride, bias=False),\n",
        "                nn.BatchNorm2d(planes * block.expansion),\n",
        "            )\n",
        "\n",
        "        layers = []\n",
        "        layers.append(block(self.inplanes, planes, stride, downsample))\n",
        "        self.inplanes = planes * block.expansion\n",
        "        for i in range(1, blocks):\n",
        "            layers.append(block(self.inplanes, planes))\n",
        "\n",
        "        return nn.Sequential(*layers)\n",
        "\n",
        "    def forward(self, x):\n",
        "        x = self.conv1(x)\n",
        "        x = self.bn1(x)\n",
        "        x = self.relu(x)\n",
        "        x = self.maxpool(x)\n",
        "\n",
        "        x = self.layer1(x)\n",
        "        x = self.layer2(x)\n",
        "        x = self.layer3(x)\n",
        "        x = self.layer4(x)\n",
        "        # because MNIST is already 1x1 here:\n",
        "        # disable avg pooling\n",
        "        #x = self.avgpool(x)\n",
        "\n",
        "        x = x.view(x.size(0), -1)\n",
        "        logits = self.fc(x)\n",
        "        probas = F.softmax(logits, dim=1)\n",
        "        return logits, probas\n",
        "\n",
        "\n",
        "\n",
        "def resnet18(num_classes):\n",
        "    \"\"\"Constructs a ResNet-18 model.\"\"\"\n",
        "    model = ResNet(block=BasicBlock,\n",
        "                   layers=[2, 2, 2, 2],\n",
        "                   num_classes=NUM_CLASSES,\n",
        "                   grayscale=GRAYSCALE)\n",
        "    return model\n",
        "\n",
        "\n"
      ],
      "metadata": {
        "id": "QQIwYJFKjPHi"
      },
      "execution_count": 10,
      "outputs": []
    },
    {
      "cell_type": "code",
      "source": [
        "torch.manual_seed(RANDOM_SEED)\n",
        "\n",
        "model = resnet18(NUM_CLASSES)\n",
        "model.to(DEVICE)\n",
        "\n",
        "optimizer = torch.optim.Adam(model.parameters(), lr=LEARNING_RATE)"
      ],
      "metadata": {
        "id": "VTUklKC5jsF0"
      },
      "execution_count": 11,
      "outputs": []
    },
    {
      "cell_type": "code",
      "source": [
        "def compute_accuracy(model, data_loader, device):\n",
        "    correct_pred, num_examples = 0, 0\n",
        "    for i, (features, targets) in enumerate(data_loader):\n",
        "\n",
        "        features = features.to(device)\n",
        "        targets = targets.to(device)\n",
        "\n",
        "        logits, probas = model(features)\n",
        "        _, predicted_labels = torch.max(probas, 1)\n",
        "        num_examples += targets.size(0)\n",
        "        correct_pred += (predicted_labels == targets).sum()\n",
        "    return correct_pred.float()/num_examples * 100\n",
        "\n",
        "    tart_time = time.time()\n",
        "for epoch in range(NUM_EPOCHS):\n",
        "\n",
        "    model.train()\n",
        "    for batch_idx, (features, targets) in enumerate(train_loader):\n",
        "\n",
        "        features = features.to(DEVICE)\n",
        "        targets = targets.to(DEVICE)\n",
        "\n",
        "        ### FORWARD AND BACK PROP\n",
        "        logits, probas = model(features)\n",
        "        cost = F.cross_entropy(logits, targets)\n",
        "        optimizer.zero_grad()\n",
        "\n",
        "        cost.backward()\n",
        "\n",
        "        ### UPDATE MODEL PARAMETERS\n",
        "        optimizer.step()\n",
        "\n",
        "        ### LOGGING\n",
        "        if not batch_idx % 50:\n",
        "            print ('Epoch: %03d/%03d | Batch %04d/%04d | Cost: %.4f'\n",
        "                   %(epoch+1, NUM_EPOCHS, batch_idx,\n",
        "                     len(train_loader), cost))\n",
        "\n",
        "        model.eval()\n",
        "    with torch.set_grad_enabled(False): # save memory during inference\n",
        "        print('Epoch: %03d/%03d | Train: %.3f%%' % (\n",
        "              epoch+1, NUM_EPOCHS,\n",
        "              compute_accuracy(model, train_loader, device=DEVICE)))\n",
        "\n",
        "        # ... (other code, including model definition, optimizer, etc.) ...\n",
        "\n",
        "start_time = time.time()  # Initialize start_time before the loop\n",
        "\n",
        "for epoch in range(NUM_EPOCHS):\n",
        "    model.train()\n",
        "    for batch_idx, (features, targets) in enumerate(train_loader):\n",
        "        # ... (training code) ...\n",
        "\n",
        "      model.eval()\n",
        "    with torch.set_grad_enabled(False):\n",
        "        # ... (evaluation code) ...\n",
        "\n",
        "      print('Epoch: %03d/%03d | Train: %.3f%%' % (\n",
        "          epoch + 1, NUM_EPOCHS,\n",
        "          compute_accuracy(model, train_loader, device=DEVICE)))\n",
        "\n",
        "print('Time elapsed: %.2f min' % ((time.time() - start_time) / 60))  # Indentation corrected\n",
        "\n",
        "print('Total Training Time: %.2f min' % ((time.time() - start_time) / 60))\n",
        ""
      ],
      "metadata": {
        "colab": {
          "base_uri": "https://localhost:8080/"
        },
        "id": "jdVsD9C4js8a",
        "outputId": "bb74ea40-2cd2-432a-ab34-d161bd7194a6"
      },
      "execution_count": 25,
      "outputs": [
        {
          "output_type": "stream",
          "name": "stdout",
          "text": [
            "Epoch: 001/010 | Batch 0000/0469 | Cost: 0.1881\n",
            "Epoch: 001/010 | Batch 0050/0469 | Cost: 0.0288\n",
            "Epoch: 001/010 | Batch 0100/0469 | Cost: 0.0031\n",
            "Epoch: 001/010 | Batch 0150/0469 | Cost: 0.0033\n",
            "Epoch: 001/010 | Batch 0200/0469 | Cost: 0.0201\n",
            "Epoch: 001/010 | Batch 0250/0469 | Cost: 0.0086\n",
            "Epoch: 001/010 | Batch 0300/0469 | Cost: 0.0429\n",
            "Epoch: 001/010 | Batch 0350/0469 | Cost: 0.0008\n",
            "Epoch: 001/010 | Batch 0400/0469 | Cost: 0.0219\n",
            "Epoch: 001/010 | Batch 0450/0469 | Cost: 0.0045\n",
            "Epoch: 001/010 | Train: 99.737%\n",
            "Epoch: 002/010 | Batch 0000/0469 | Cost: 0.1974\n",
            "Epoch: 002/010 | Batch 0050/0469 | Cost: 0.0201\n",
            "Epoch: 002/010 | Batch 0100/0469 | Cost: 0.0015\n",
            "Epoch: 002/010 | Batch 0150/0469 | Cost: 0.0175\n",
            "Epoch: 002/010 | Batch 0200/0469 | Cost: 0.0362\n",
            "Epoch: 002/010 | Batch 0250/0469 | Cost: 0.0264\n",
            "Epoch: 002/010 | Batch 0300/0469 | Cost: 0.0075\n",
            "Epoch: 002/010 | Batch 0350/0469 | Cost: 0.0178\n",
            "Epoch: 002/010 | Batch 0400/0469 | Cost: 0.1198\n",
            "Epoch: 002/010 | Batch 0450/0469 | Cost: 0.0231\n",
            "Epoch: 002/010 | Train: 99.665%\n",
            "Epoch: 003/010 | Batch 0000/0469 | Cost: 0.4285\n",
            "Epoch: 003/010 | Batch 0050/0469 | Cost: 0.0068\n",
            "Epoch: 003/010 | Batch 0100/0469 | Cost: 0.0235\n",
            "Epoch: 003/010 | Batch 0150/0469 | Cost: 0.0029\n",
            "Epoch: 003/010 | Batch 0200/0469 | Cost: 0.0007\n",
            "Epoch: 003/010 | Batch 0250/0469 | Cost: 0.0058\n",
            "Epoch: 003/010 | Batch 0300/0469 | Cost: 0.0077\n",
            "Epoch: 003/010 | Batch 0350/0469 | Cost: 0.0610\n",
            "Epoch: 003/010 | Batch 0400/0469 | Cost: 0.0037\n",
            "Epoch: 003/010 | Batch 0450/0469 | Cost: 0.0406\n",
            "Epoch: 003/010 | Train: 99.442%\n",
            "Epoch: 004/010 | Batch 0000/0469 | Cost: 1.0630\n",
            "Epoch: 004/010 | Batch 0050/0469 | Cost: 0.0221\n",
            "Epoch: 004/010 | Batch 0100/0469 | Cost: 0.0007\n",
            "Epoch: 004/010 | Batch 0150/0469 | Cost: 0.0012\n",
            "Epoch: 004/010 | Batch 0200/0469 | Cost: 0.0081\n",
            "Epoch: 004/010 | Batch 0250/0469 | Cost: 0.0078\n",
            "Epoch: 004/010 | Batch 0300/0469 | Cost: 0.0012\n",
            "Epoch: 004/010 | Batch 0350/0469 | Cost: 0.0776\n",
            "Epoch: 004/010 | Batch 0400/0469 | Cost: 0.0087\n",
            "Epoch: 004/010 | Batch 0450/0469 | Cost: 0.0014\n",
            "Epoch: 004/010 | Train: 99.693%\n",
            "Epoch: 005/010 | Batch 0000/0469 | Cost: 0.6313\n",
            "Epoch: 005/010 | Batch 0050/0469 | Cost: 0.0027\n",
            "Epoch: 005/010 | Batch 0100/0469 | Cost: 0.0006\n",
            "Epoch: 005/010 | Batch 0150/0469 | Cost: 0.0010\n",
            "Epoch: 005/010 | Batch 0200/0469 | Cost: 0.0380\n",
            "Epoch: 005/010 | Batch 0250/0469 | Cost: 0.0110\n",
            "Epoch: 005/010 | Batch 0300/0469 | Cost: 0.0176\n",
            "Epoch: 005/010 | Batch 0350/0469 | Cost: 0.0046\n",
            "Epoch: 005/010 | Batch 0400/0469 | Cost: 0.0308\n",
            "Epoch: 005/010 | Batch 0450/0469 | Cost: 0.0015\n",
            "Epoch: 005/010 | Train: 99.808%\n",
            "Epoch: 006/010 | Batch 0000/0469 | Cost: 0.4374\n",
            "Epoch: 006/010 | Batch 0050/0469 | Cost: 0.0316\n",
            "Epoch: 006/010 | Batch 0100/0469 | Cost: 0.0013\n",
            "Epoch: 006/010 | Batch 0150/0469 | Cost: 0.0015\n",
            "Epoch: 006/010 | Batch 0200/0469 | Cost: 0.0028\n",
            "Epoch: 006/010 | Batch 0250/0469 | Cost: 0.0024\n",
            "Epoch: 006/010 | Batch 0300/0469 | Cost: 0.0131\n",
            "Epoch: 006/010 | Batch 0350/0469 | Cost: 0.0022\n",
            "Epoch: 006/010 | Batch 0400/0469 | Cost: 0.0378\n",
            "Epoch: 006/010 | Batch 0450/0469 | Cost: 0.0042\n",
            "Epoch: 006/010 | Train: 99.563%\n",
            "Epoch: 007/010 | Batch 0000/0469 | Cost: 0.3704\n",
            "Epoch: 007/010 | Batch 0050/0469 | Cost: 0.0005\n",
            "Epoch: 007/010 | Batch 0100/0469 | Cost: 0.0094\n",
            "Epoch: 007/010 | Batch 0150/0469 | Cost: 0.0021\n",
            "Epoch: 007/010 | Batch 0200/0469 | Cost: 0.0045\n",
            "Epoch: 007/010 | Batch 0250/0469 | Cost: 0.0020\n",
            "Epoch: 007/010 | Batch 0300/0469 | Cost: 0.0053\n",
            "Epoch: 007/010 | Batch 0350/0469 | Cost: 0.0061\n",
            "Epoch: 007/010 | Batch 0400/0469 | Cost: 0.0021\n",
            "Epoch: 007/010 | Batch 0450/0469 | Cost: 0.0315\n",
            "Epoch: 007/010 | Train: 99.745%\n",
            "Epoch: 008/010 | Batch 0000/0469 | Cost: 0.0409\n",
            "Epoch: 008/010 | Batch 0050/0469 | Cost: 0.0006\n",
            "Epoch: 008/010 | Batch 0100/0469 | Cost: 0.0068\n",
            "Epoch: 008/010 | Batch 0150/0469 | Cost: 0.0058\n",
            "Epoch: 008/010 | Batch 0200/0469 | Cost: 0.0004\n",
            "Epoch: 008/010 | Batch 0250/0469 | Cost: 0.0177\n",
            "Epoch: 008/010 | Batch 0300/0469 | Cost: 0.0006\n",
            "Epoch: 008/010 | Batch 0350/0469 | Cost: 0.0743\n",
            "Epoch: 008/010 | Batch 0400/0469 | Cost: 0.0053\n",
            "Epoch: 008/010 | Batch 0450/0469 | Cost: 0.0187\n",
            "Epoch: 008/010 | Train: 99.702%\n",
            "Epoch: 009/010 | Batch 0000/0469 | Cost: 0.1188\n",
            "Epoch: 009/010 | Batch 0050/0469 | Cost: 0.0004\n",
            "Epoch: 009/010 | Batch 0100/0469 | Cost: 0.0008\n",
            "Epoch: 009/010 | Batch 0150/0469 | Cost: 0.0006\n",
            "Epoch: 009/010 | Batch 0200/0469 | Cost: 0.0026\n",
            "Epoch: 009/010 | Batch 0250/0469 | Cost: 0.0005\n",
            "Epoch: 009/010 | Batch 0300/0469 | Cost: 0.0066\n",
            "Epoch: 009/010 | Batch 0350/0469 | Cost: 0.0144\n",
            "Epoch: 009/010 | Batch 0400/0469 | Cost: 0.0374\n",
            "Epoch: 009/010 | Batch 0450/0469 | Cost: 0.0276\n",
            "Epoch: 009/010 | Train: 99.837%\n",
            "Epoch: 010/010 | Batch 0000/0469 | Cost: 0.0384\n",
            "Epoch: 010/010 | Batch 0050/0469 | Cost: 0.0053\n",
            "Epoch: 010/010 | Batch 0100/0469 | Cost: 0.0196\n",
            "Epoch: 010/010 | Batch 0150/0469 | Cost: 0.0002\n",
            "Epoch: 010/010 | Batch 0200/0469 | Cost: 0.0266\n",
            "Epoch: 010/010 | Batch 0250/0469 | Cost: 0.0020\n",
            "Epoch: 010/010 | Batch 0300/0469 | Cost: 0.0339\n",
            "Epoch: 010/010 | Batch 0350/0469 | Cost: 0.0740\n",
            "Epoch: 010/010 | Batch 0400/0469 | Cost: 0.0005\n",
            "Epoch: 010/010 | Batch 0450/0469 | Cost: 0.0052\n",
            "Epoch: 010/010 | Train: 99.867%\n",
            "Epoch: 001/010 | Train: 99.867%\n",
            "Epoch: 002/010 | Train: 99.867%\n",
            "Epoch: 003/010 | Train: 99.867%\n",
            "Epoch: 004/010 | Train: 99.867%\n",
            "Epoch: 005/010 | Train: 99.867%\n",
            "Epoch: 006/010 | Train: 99.867%\n",
            "Epoch: 007/010 | Train: 99.867%\n",
            "Epoch: 008/010 | Train: 99.867%\n",
            "Epoch: 009/010 | Train: 99.867%\n",
            "Epoch: 010/010 | Train: 99.867%\n",
            "Time elapsed: 2.27 min\n",
            "Total Training Time: 2.27 min\n"
          ]
        }
      ]
    },
    {
      "cell_type": "code",
      "source": [
        "with torch.set_grad_enabled(False): # save memory during inference\n",
        "    print('Test accuracy: %.2f%%' % (compute_accuracy(model, test_loader, device=DEVICE)))"
      ],
      "metadata": {
        "colab": {
          "base_uri": "https://localhost:8080/"
        },
        "id": "i4tgWhzjj2Xz",
        "outputId": "ceef4941-700e-4e0e-9998-140ce6865252"
      },
      "execution_count": 26,
      "outputs": [
        {
          "output_type": "stream",
          "name": "stdout",
          "text": [
            "Test accuracy: 99.37%\n"
          ]
        }
      ]
    },
    {
      "cell_type": "code",
      "source": [
        "for batch_idx, (features, targets) in enumerate(test_loader):\n",
        "\n",
        "    features = features\n",
        "    targets = targets\n",
        "    break\n",
        "\n",
        "\n",
        "nhwc_img = np.transpose(features[0], axes=(1, 2, 0))\n",
        "nhw_img = np.squeeze(nhwc_img.numpy(), axis=2)\n",
        "plt.imshow(nhw_img, cmap='Greys');"
      ],
      "metadata": {
        "colab": {
          "base_uri": "https://localhost:8080/",
          "height": 430
        },
        "id": "VzyoRqmPj5Xy",
        "outputId": "cfdcf1d9-dc30-4c42-83af-e08b3d101360"
      },
      "execution_count": 27,
      "outputs": [
        {
          "output_type": "display_data",
          "data": {
            "text/plain": [
              "<Figure size 640x480 with 1 Axes>"
            ],
            "image/png": "[encoded data removed]"
          },
          "metadata": {}
        }
      ]
    },
    {
      "cell_type": "code",
      "source": [
        "model.eval()\n",
        "logits, probas = model(features.to(device)[0, None])\n",
        "print('Probability 7 %.2f%%' % (probas[0][7]*100))"
      ],
      "metadata": {
        "colab": {
          "base_uri": "https://localhost:8080/"
        },
        "id": "gDKj0DPVj8ny",
        "outputId": "7970dc34-dffd-450b-bbe0-366c1a9566a4"
      },
      "execution_count": 28,
      "outputs": [
        {
          "output_type": "stream",
          "name": "stdout",
          "text": [
            "Probability 7 100.00%\n"
          ]
        }
      ]
    },
    {
      "cell_type": "code",
      "source": [],
      "metadata": {
        "id": "tWH6cybYj-zu"
      },
      "execution_count": null,
      "outputs": []
    }
  ]
}